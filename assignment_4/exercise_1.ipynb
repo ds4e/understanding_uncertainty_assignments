{
 "cells": [
  {
   "cell_type": "markdown",
   "id": "ec4b2b44",
   "metadata": {},
   "source": [
    "### Exercise 1: Contingent Comparisons\n",
    "- Load the Minnesota use of force data.\n",
    "- Bootstrap the proportion of missing values for `subject_injury` for each race, and plot the results with grouped KDE and ECDF plots\n",
    "- Describe what you see. When we consider second order uncertainty, how similar or different are the sampling distributions of these proportions? "
   ]
  }
 ],
 "metadata": {
  "language_info": {
   "name": "python"
  }
 },
 "nbformat": 4,
 "nbformat_minor": 5
}
