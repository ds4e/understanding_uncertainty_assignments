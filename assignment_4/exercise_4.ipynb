{
 "cells": [
  {
   "cell_type": "markdown",
   "id": "1619767a",
   "metadata": {},
   "source": [
    "### Exercise 4: Prediction Uncertainty\n",
    "- Pick a dataset and two continuous variables.\n",
    "- Recall the LCLS estimator:\n",
    "$$\n",
    "\\hat{y}(z) =  \\frac{ \\frac{1}{N} \\sum_{i=1}^N y_i \\times \\frac{1}{h}k\\left( \\frac{z - x_i}{h} \\right)}{ \\frac{1}{N} \\sum_{i=1}^N \\frac{1}{h} k\\left( \\frac{z - x_i}{h} \\right)}\n",
    "$$\n",
    "with the Epanechnikov kernel and the standard plug-in bandwidth for $h$\n",
    "- Compute and plot this line for 30 bootstrap samples. Notice where there is a lot of variation in the predictions, versus little variation in the predictions.\n",
    "- Now, for any $z$, we can bootstrap a distribution of predictions using the above formula. Do this at the 25th percentile, median, and 75th percentile of $X$, and make KDE plots of your results.\n",
    "- Now, pick a grid for $z$: Obvious choices are all of the unique values in the data, or an equally spaced grid from the minimum value to the maximum value. For each $z$, bootstrap a sample of predictions and compute the .05 and .95 quantiles. Plot these error curves along with your LCLS estimate. Where are your predictions \"tight\"/reliable? Where are they highly variable/unreliable?"
   ]
  }
 ],
 "metadata": {
  "language_info": {
   "name": "python"
  }
 },
 "nbformat": 4,
 "nbformat_minor": 5
}
