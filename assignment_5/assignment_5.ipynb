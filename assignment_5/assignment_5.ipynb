{
 "cells": [
  {
   "cell_type": "markdown",
   "id": "dd21efe9",
   "metadata": {},
   "source": [
    "# Assignment 5\n",
    "### Do all four questions."
   ]
  },
  {
   "cell_type": "markdown",
   "id": "1ee9b4e8",
   "metadata": {},
   "source": [
    "# **1.** Let's review some basic matrix multiplication. When you have an $M \\times N$ matrix $A$ with $M$ rows and $N$ columns, \n",
    "$$\n",
    "A= \\left[ \\begin{array}{cccc} a_{11} & a_{12} & ... & a_{1N} \\\\\n",
    "a_{21} & a_{22} & ... & a_{2N} \\\\\n",
    "\\vdots & \\vdots & ... & \\vdots \\\\\n",
    "a_{M1} & a_{M2} & ... & a_{MN} \n",
    "\\end{array} \\right],\n",
    "$$\n",
    "and you right-multiply it by a vector\n",
    "$$\n",
    "x = \\left[ \\begin{array}{c} x_1 \\\\ x_2 \\\\ \\vdots \\\\ x_N \n",
    "\\end{array} \\right],\n",
    "$$\n",
    "you get\n",
    "$$\n",
    "Ax = \\left[ \\begin{array}{c} \\sum_{i=1}^N a_{1i} x_i \\\\ \\sum_{i=1}^N a_{2i} x_i \\\\ \\vdots \\\\ \\sum_{i=1}^N a_{Mi} x_i \n",
    "\\end{array} \\right].\n",
    "$$\n",
    "This is just \"matrix row times column vector\" element-by-element, stacking the results into a new vector.\n",
    "\n",
    "For this to make sense, $N$ must be the same for the matrix and the vector, but $M$ can be different from $N$. \n",
    "\n",
    "Let's play with some NumPy to see this. First we'll define a matrix $A$:"
   ]
  },
  {
   "cell_type": "code",
   "execution_count": 1,
   "id": "33df3579",
   "metadata": {},
   "outputs": [
    {
     "data": {
      "text/plain": [
       "array([[1, 2, 3],\n",
       "       [4, 5, 6],\n",
       "       [7, 8, 9]])"
      ]
     },
     "execution_count": 1,
     "metadata": {},
     "output_type": "execute_result"
    }
   ],
   "source": [
    "import numpy as np\n",
    "\n",
    "A = np.array([ [1,2,3],\n",
    "              [4,5,6],\n",
    "              [7,8,9]])\n",
    "A"
   ]
  },
  {
   "cell_type": "markdown",
   "id": "94b1b3ac",
   "metadata": {},
   "source": [
    "a. Multiply $A$ times each of the following vectors using the @ operator. Explain which part of the $A$ matrix gets selected and explain why, using the definition of matrix multiplication. "
   ]
  },
  {
   "cell_type": "code",
   "execution_count": 2,
   "id": "5b6148d2",
   "metadata": {},
   "outputs": [
    {
     "name": "stdout",
     "output_type": "stream",
     "text": [
      "The first column is selected because the first element of e_1 is 1 and all other elements are 0.\n",
      "Since each row will be a dot product of e_1 and the corresponding row in A, the first row will be:\n",
      "Column 1, row 1 * 1 + column 2, row 1 * 0 + column 3, row 1 * 0 = column 1 row 1 of A\n",
      "[1 4 7]\n",
      "\n",
      "For the exact same reason, this will be the second column:\n",
      "[2 5 8]\n",
      "\n",
      "For the exact same reason, this will be the third column:\n",
      "[3 6 9]\n"
     ]
    }
   ],
   "source": [
    "e_1 = np.array([1,0,0])\n",
    "e_2 = np.array([0,1,0])\n",
    "e_3 = np.array([0,0,1])\n",
    "\n",
    "print(\"The first column is selected because the first element of e_1 is 1 and all other elements are 0.\")\n",
    "print(\"Since each row will be a dot product of e_1 and the corresponding row in A, the first row will be:\")\n",
    "print(\"Column 1, row 1 * 1 + column 2, row 1 * 0 + column 3, row 1 * 0 = column 1 row 1 of A\")\n",
    "print(A @ e_1)\n",
    "print(\"\\nFor the exact same reason, this will be the second column:\")\n",
    "print(A @ e_2)\n",
    "print(\"\\nFor the exact same reason, this will be the third column:\")\n",
    "print(A @ e_3)"
   ]
  },
  {
   "cell_type": "markdown",
   "id": "72a4704e",
   "metadata": {},
   "source": [
    "b. Now multiply $A$ times $u = (1,1,1)$. Explain the logic of the result with the definition of matrix multiplication."
   ]
  },
  {
   "cell_type": "code",
   "execution_count": 3,
   "id": "5bf73f9b",
   "metadata": {},
   "outputs": [
    {
     "name": "stdout",
     "output_type": "stream",
     "text": [
      "This multiplication will result in a vector with each of the rows of A added up.\n",
      "This is because this multiplication does a dot product between each row of A and u.\n",
      "[ 6. 15. 24.]\n"
     ]
    }
   ],
   "source": [
    "u = np.ones(3)\n",
    "print(\"This multiplication will result in a vector with each of the rows of A added up.\")\n",
    "print(\"This is because this multiplication does a dot product between each row of A and u.\")\n",
    "print(A @ u)"
   ]
  },
  {
   "cell_type": "markdown",
   "id": "dde75eab",
   "metadata": {},
   "source": [
    "c. Whenever a matrix has 1's on the diagonal and zeros everywhere else, we call it an **identity matrix**. What happens when you multiple $A$ times $x$ below? What happens when you multiple an identity matrix times any vector? Explain your result with the definition of matrix multiplication."
   ]
  },
  {
   "cell_type": "code",
   "execution_count": 4,
   "id": "b0d349c4",
   "metadata": {},
   "outputs": [
    {
     "name": "stdout",
     "output_type": "stream",
     "text": [
      "Multiplying any vector by an identity matrix results in the same vector.\n",
      "The is because the element corresponding to position i of the vector is multiplied by the element corresponding to position i of the identity matrix, which is 1 and all other elements in that row are 0.\n",
      "[-2  4 11]\n"
     ]
    }
   ],
   "source": [
    "A = np.array([ [1,0,0],\n",
    "              [0,1,0],\n",
    "              [0,0,1]])\n",
    "x = np.array([-2,4,11])\n",
    "\n",
    "print(\"Multiplying any vector by an identity matrix results in the same vector.\")\n",
    "print(\"The is because the element corresponding to position i of the vector is multiplied by the element corresponding to position i of the identity matrix, which is 1 and all other elements in that row are 0.\")\n",
    "print(A @ x)"
   ]
  },
  {
   "cell_type": "markdown",
   "id": "57141925",
   "metadata": {},
   "source": [
    "d. What if every row and column sum to 1, but the 1's are no longer on the diagonal? Multiple $A$ times $X$ below and explain the result. Create another matrix whose rows and columns sum to 1, but is not an identity matrix, and show how it permutes the values of $x$. "
   ]
  },
  {
   "cell_type": "code",
   "execution_count": 5,
   "id": "83a9ed11",
   "metadata": {},
   "outputs": [
    {
     "name": "stdout",
     "output_type": "stream",
     "text": [
      "This will shuffle around the numbers in the vector if there is a 1 in each row and a 1 in each column and 0s everywhere else.\n",
      "Where r is the row and c is the column, having a 1 in the r, c position will result in the c-th element of the vector being placed in the r-th position in the new vector.\n",
      "[11 -2  4]\n",
      "If they sum to 1 but aren't themselves 1, then it will take a weighted average of the elements in the vector, with element i's weight corresponding with the value corresponding to column i in any given row.\n",
      "[2.4 3.1 7.5]\n"
     ]
    }
   ],
   "source": [
    "A = np.array([ [0,0,1],\n",
    "              [1,0,0],\n",
    "              [0,1,0]])\n",
    "x = np.array([-2,4,11])\n",
    "\n",
    "print(\"This will shuffle around the numbers in the vector if there is a 1 in each row and a 1 in each column and 0s everywhere else.\")\n",
    "print(\"Where r is the row and c is the column, having a 1 in the r, c position will result in the c-th element of the vector being placed in the r-th position in the new vector.\")\n",
    "print(A @ x)\n",
    "print(\"If they sum to 1 but aren't themselves 1, then it will take a weighted average of the elements in the vector,\" \\\n",
    "\" with element i's weight corresponding with the value corresponding to column i in any given row.\")\n",
    "A = np.array([ [0.5,0.3,0.2],\n",
    "              [0.5,0.2,0.3],\n",
    "              [0,0.5,0.5]])\n",
    "print(A @ x)"
   ]
  },
  {
   "cell_type": "markdown",
   "id": "611c26c3",
   "metadata": {},
   "source": [
    "e. The next matrix $A$ could be a Markov transition matrix: Its columns sum to 1, and each entry $a_{ij}$ can be interpreted as the proportion of observations who moved from state $j$ to state $i$. Multiply $A$ by each of the vectors $e_1$, $e_2$, and $e_3$, and explain your results."
   ]
  },
  {
   "cell_type": "code",
   "execution_count": 6,
   "id": "aff4fb97",
   "metadata": {},
   "outputs": [
    {
     "name": "stdout",
     "output_type": "stream",
     "text": [
      "[[0.50052958 0.24049286 0.18358131]\n",
      " [0.02574731 0.39251588 0.37907577]\n",
      " [0.47372311 0.36699127 0.43734292]]\n"
     ]
    }
   ],
   "source": [
    "rng = np.random.default_rng(100)\n",
    "A = rng.random((3,3)) # Generate a random 3X3 matrix\n",
    "sums = np.sum(A,axis=0) # Column sums\n",
    "A = A/sums # Normalize the columns so they sum to 1\n",
    "print(A)"
   ]
  },
  {
   "cell_type": "code",
   "execution_count": 7,
   "id": "bac48ac4",
   "metadata": {},
   "outputs": [
    {
     "name": "stdout",
     "output_type": "stream",
     "text": [
      "[0.50052958 0.02574731 0.47372311]\n",
      "[0.24049286 0.39251588 0.36699127]\n",
      "[0.18358131 0.37907577 0.43734292]\n",
      "Each row of the resultant vectors is the probability of transitioning from position i to each position in the state space from position i where i is the element of the e_i that is 1.\n"
     ]
    }
   ],
   "source": [
    "print(A @ e_1)\n",
    "print(A @ e_2)\n",
    "print(A @ e_3)\n",
    "print(\"Each row of the resultant vectors is the probability of transitioning from position i to each position in the state space\" \\\n",
    "\" from position i where i is the element of the e_i that is 1.\")"
   ]
  },
  {
   "cell_type": "markdown",
   "id": "0647bfa7",
   "metadata": {},
   "source": [
    "f. For each of the vectors $e_1, e_2, e_3$, multiple $A$ times that vector 5 times. What answer do you get for each starting vector? Describe the behavior you observe."
   ]
  },
  {
   "cell_type": "code",
   "execution_count": 8,
   "id": "8ef73cab",
   "metadata": {},
   "outputs": [
    {
     "name": "stdout",
     "output_type": "stream",
     "text": [
      "[0.29266551 0.27862515 0.42870935]\n",
      "[0.29197422 0.27979983 0.42822595]\n",
      "[0.29171646 0.2802254  0.42805814]\n",
      "As you add more iterations, the vectors seem to converge to the same stable state likelihood.\n"
     ]
    }
   ],
   "source": [
    "e = e_1\n",
    "for i in range(5):\n",
    "    e = A @ e\n",
    "print(e)\n",
    "\n",
    "e = e_2\n",
    "for i in range(5):\n",
    "    e = A @ e\n",
    "print(e)\n",
    "\n",
    "e = e_3\n",
    "for i in range(5):\n",
    "    e = A @ e\n",
    "print(e)\n",
    "\n",
    "print(\"As you add more iterations, the vectors seem to converge to the same stable state likelihood.\")"
   ]
  },
  {
   "cell_type": "markdown",
   "id": "fa2c9a93",
   "metadata": {},
   "source": [
    "# *2.* Let's consider a simple Markov transition matrix over two states:\n",
    "$$\n",
    "T = \\left[ \\begin{array}{cc} p_{1\\leftarrow 1} &  p_{1\\leftarrow 2} \\\\\n",
    "p_{2 \\leftarrow 1} & p_{2 \\leftarrow 2} \\end{array}\\right] \n",
    "$$\n",
    "The arrows help visualize the transition a bit: This is the same index notation as usual, $p_{ij}$, but writing it $p_{i \\leftarrow j}$ emphasizes that it's the proportion of times that state $j$ transitions to state $i$. Below, $T$ is given by\n",
    "$$\n",
    "T = \\left[ \\begin{array}{cc} .25 & .5 \\\\\n",
    ".75 & .5 \\end{array}\\right].\n",
    "$$\n",
    "- Start in state 1, at the initial condition $[1,0]$. Multiply that vector by $T$. Write out the result in terms of the formula and compute the result in a code chunk below. What is this object you're looking at, in terms of proportions and transitions?\n",
    "\n",
    "$$\n",
    "T [1,0] = \\left[ \\begin{array}{cc} .25*1 + .5*0 &\n",
    ".75*1 + .5*0 \\end{array}\\right].\n",
    "$$\n",
    "\n",
    "Each element in the vector is the probability you are at that i-th state after 1 timestep when starting at state 1.\n",
    "\n",
    "- Multiple by $T$ again. What do you get? This isn't a column of $T$. Explain in words what it is. (Hint: A forecast of what in what period?)\n",
    "\n",
    "$$\n",
    "TT [1,0] = \\left[ \\begin{array}{cc} .25*.25 + .5*.75 &\n",
    ".75*.25 + .5*.5 \\end{array}\\right].\n",
    "$$\n",
    "\n",
    "Each element in the vector is the probability you are at that i-th state after 2 timesteps when starting at state 1.\n",
    "\n",
    "- Keep multiplying the current vector of outcomes by $T$. When does it start to settle down without changing further?\n",
    "\n",
    "After 28 iterations, it converges to \n",
    "$$\n",
    "T^{28} [1,0] = \\left[ \\begin{array}{cc} .4 & .6 \\end{array}\\right].\n",
    "$$\n",
    "\n",
    "- Do the above analysis again, starting from the initial condition $[0,1]$. Do you get a different result?\n",
    "\n",
    "We get the same result, it takes 28 iterations to converge and we converge to the same vector.\n",
    "\n",
    "- The take-away is that, in the long run, these chains settle down into the long-run proportions, and the sensitivity on initial conditions vanishes. "
   ]
  },
  {
   "cell_type": "code",
   "execution_count": 9,
   "id": "4b6a775f",
   "metadata": {},
   "outputs": [
    {
     "name": "stdout",
     "output_type": "stream",
     "text": [
      "A@[1,0]\n",
      "[0.25 0.75]\n",
      "A^2@[1,0]\n",
      "[0.4375 0.5625]\n",
      "A^2@[1,0]\n",
      "29\n",
      "The number of iterations required to converge to the same stable state is  28\n",
      "The (stable) state at 29 is  [0.4 0.6]\n",
      "The (stable) state at 28 is  [0.4 0.6]\n",
      "\n",
      "Convergence from [0,1]:\n",
      "29\n",
      "The number of iterations required to converge to the same stable state is  28\n",
      "The (stable) state at 29 is  [0.4 0.6]\n",
      "The (stable) state at 28 is  [0.4 0.6]\n"
     ]
    }
   ],
   "source": [
    "T = np.array([[ 1/4, 1/2],\n",
    "                 [ 3/4, 1/2 ]])\n",
    "print(\"A@[1,0]\")\n",
    "print(T @ np.array([1, 0]))\n",
    "print(\"A^2@[1,0]\")\n",
    "print(T @ T @ np.array([1, 0]))\n",
    "print(\"A^2@[1,0]\")\n",
    "def exp_matmul(T, n):\n",
    "    if n == 0:\n",
    "        return np.array([1, 0])\n",
    "    else:\n",
    "        return T @ exp_matmul(T, n-1)\n",
    "n = 2\n",
    "while True:\n",
    "    if (exp_matmul(T, n) == exp_matmul(T, n-1)).all():\n",
    "        print(n)\n",
    "        break\n",
    "    n += 1\n",
    "print(\"The number of iterations required to converge to the same stable state is \", n-1)\n",
    "print(f\"The (stable) state at {n} is \", exp_matmul(T, n))\n",
    "print(f\"The (stable) state at {n-1} is \", exp_matmul(T, n-1))\n",
    "\n",
    "print(\"\\nConvergence from [0,1]:\")\n",
    "def exp_matmul(T, n):\n",
    "    if n == 0:\n",
    "        return np.array([0, 1])\n",
    "    else:\n",
    "        return T @ exp_matmul(T, n-1)\n",
    "n = 2\n",
    "while True:\n",
    "    if (exp_matmul(T, n) == exp_matmul(T, n-1)).all():\n",
    "        print(n)\n",
    "        break\n",
    "    n += 1\n",
    "print(\"The number of iterations required to converge to the same stable state is \", n-1)\n",
    "print(f\"The (stable) state at {n} is \", exp_matmul(T, n))\n",
    "print(f\"The (stable) state at {n-1} is \", exp_matmul(T, n-1))"
   ]
  },
  {
   "cell_type": "markdown",
   "id": "921592e9",
   "metadata": {},
   "source": [
    "# 3. Weather data\n",
    "\n",
    "- Load the `cville_weather.csv` data. This includes data from Jan 4, 2024 to Feb 2, 2025. Are there any missing data issues?"
   ]
  },
  {
   "cell_type": "code",
   "execution_count": 10,
   "id": "d71d5eb9",
   "metadata": {},
   "outputs": [
    {
     "data": {
      "text/html": [
       "<div>\n",
       "<style scoped>\n",
       "    .dataframe tbody tr th:only-of-type {\n",
       "        vertical-align: middle;\n",
       "    }\n",
       "\n",
       "    .dataframe tbody tr th {\n",
       "        vertical-align: top;\n",
       "    }\n",
       "\n",
       "    .dataframe thead th {\n",
       "        text-align: right;\n",
       "    }\n",
       "</style>\n",
       "<table border=\"1\" class=\"dataframe\">\n",
       "  <thead>\n",
       "    <tr style=\"text-align: right;\">\n",
       "      <th></th>\n",
       "      <th>0</th>\n",
       "      <th>1</th>\n",
       "      <th>271</th>\n",
       "    </tr>\n",
       "  </thead>\n",
       "  <tbody>\n",
       "    <tr>\n",
       "      <th>STATION</th>\n",
       "      <td>US1VACRC002</td>\n",
       "      <td>US1VACRC002</td>\n",
       "      <td>US1VAAB0010</td>\n",
       "    </tr>\n",
       "    <tr>\n",
       "      <th>NAME</th>\n",
       "      <td>CHARLOTTESVILLE 0.5 NNE, VA US</td>\n",
       "      <td>CHARLOTTESVILLE 0.5 NNE, VA US</td>\n",
       "      <td>CHARLOTTESVILLE 8.4 W, VA US</td>\n",
       "    </tr>\n",
       "    <tr>\n",
       "      <th>DATE</th>\n",
       "      <td>2024-01-04</td>\n",
       "      <td>2024-01-07</td>\n",
       "      <td>2024-01-08</td>\n",
       "    </tr>\n",
       "    <tr>\n",
       "      <th>DAPR</th>\n",
       "      <td>NaN</td>\n",
       "      <td>NaN</td>\n",
       "      <td>NaN</td>\n",
       "    </tr>\n",
       "    <tr>\n",
       "      <th>DAPR_ATTRIBUTES</th>\n",
       "      <td>NaN</td>\n",
       "      <td>NaN</td>\n",
       "      <td>NaN</td>\n",
       "    </tr>\n",
       "    <tr>\n",
       "      <th>MDPR</th>\n",
       "      <td>NaN</td>\n",
       "      <td>NaN</td>\n",
       "      <td>NaN</td>\n",
       "    </tr>\n",
       "    <tr>\n",
       "      <th>MDPR_ATTRIBUTES</th>\n",
       "      <td>NaN</td>\n",
       "      <td>NaN</td>\n",
       "      <td>NaN</td>\n",
       "    </tr>\n",
       "    <tr>\n",
       "      <th>PRCP</th>\n",
       "      <td>0.03</td>\n",
       "      <td>1.08</td>\n",
       "      <td>0.0</td>\n",
       "    </tr>\n",
       "    <tr>\n",
       "      <th>PRCP_ATTRIBUTES</th>\n",
       "      <td>,,N</td>\n",
       "      <td>,,N</td>\n",
       "      <td>,,N</td>\n",
       "    </tr>\n",
       "    <tr>\n",
       "      <th>SNOW</th>\n",
       "      <td>NaN</td>\n",
       "      <td>NaN</td>\n",
       "      <td>0.0</td>\n",
       "    </tr>\n",
       "    <tr>\n",
       "      <th>SNOW_ATTRIBUTES</th>\n",
       "      <td>NaN</td>\n",
       "      <td>NaN</td>\n",
       "      <td>,,N</td>\n",
       "    </tr>\n",
       "    <tr>\n",
       "      <th>SNWD</th>\n",
       "      <td>NaN</td>\n",
       "      <td>NaN</td>\n",
       "      <td>NaN</td>\n",
       "    </tr>\n",
       "    <tr>\n",
       "      <th>SNWD_ATTRIBUTES</th>\n",
       "      <td>NaN</td>\n",
       "      <td>NaN</td>\n",
       "      <td>NaN</td>\n",
       "    </tr>\n",
       "  </tbody>\n",
       "</table>\n",
       "</div>"
      ],
      "text/plain": [
       "                                            0    \\\n",
       "STATION                             US1VACRC002   \n",
       "NAME             CHARLOTTESVILLE 0.5 NNE, VA US   \n",
       "DATE                                 2024-01-04   \n",
       "DAPR                                        NaN   \n",
       "DAPR_ATTRIBUTES                             NaN   \n",
       "MDPR                                        NaN   \n",
       "MDPR_ATTRIBUTES                             NaN   \n",
       "PRCP                                       0.03   \n",
       "PRCP_ATTRIBUTES                             ,,N   \n",
       "SNOW                                        NaN   \n",
       "SNOW_ATTRIBUTES                             NaN   \n",
       "SNWD                                        NaN   \n",
       "SNWD_ATTRIBUTES                             NaN   \n",
       "\n",
       "                                            1                             271  \n",
       "STATION                             US1VACRC002                   US1VAAB0010  \n",
       "NAME             CHARLOTTESVILLE 0.5 NNE, VA US  CHARLOTTESVILLE 8.4 W, VA US  \n",
       "DATE                                 2024-01-07                    2024-01-08  \n",
       "DAPR                                        NaN                           NaN  \n",
       "DAPR_ATTRIBUTES                             NaN                           NaN  \n",
       "MDPR                                        NaN                           NaN  \n",
       "MDPR_ATTRIBUTES                             NaN                           NaN  \n",
       "PRCP                                       1.08                           0.0  \n",
       "PRCP_ATTRIBUTES                             ,,N                           ,,N  \n",
       "SNOW                                        NaN                           0.0  \n",
       "SNOW_ATTRIBUTES                             NaN                           ,,N  \n",
       "SNWD                                        NaN                           NaN  \n",
       "SNWD_ATTRIBUTES                             NaN                           NaN  "
      ]
     },
     "execution_count": 10,
     "metadata": {},
     "output_type": "execute_result"
    }
   ],
   "source": [
    "import os\n",
    "import pandas as pd\n",
    "os.chdir('/home/blalo/uva/understanding_uncertainty/group')\n",
    "df = pd.read_csv('./data/cville_weather.csv')\n",
    "df = df.sort_values(by='DATE')\n",
    "df.head(3).T"
   ]
  },
  {
   "cell_type": "code",
   "execution_count": 11,
   "id": "ac61c716",
   "metadata": {},
   "outputs": [
    {
     "name": "stdout",
     "output_type": "stream",
     "text": [
      "STATION 0\n",
      "NAME 0\n",
      "DATE 0\n",
      "DAPR 399\n",
      "DAPR_ATTRIBUTES 399\n",
      "MDPR 399\n",
      "MDPR_ATTRIBUTES 399\n",
      "PRCP 12\n",
      "PRCP_ATTRIBUTES 12\n",
      "SNOW 188\n",
      "SNOW_ATTRIBUTES 188\n",
      "SNWD 410\n",
      "SNWD_ATTRIBUTES 410\n",
      "\n",
      "There seems to be significant missing data issues :(\n"
     ]
    }
   ],
   "source": [
    "# Count missing values in all columns separately\n",
    "for col in df.columns:\n",
    "    print(col, df[col].isna().sum())\n",
    "print(\"\\nThere seems to be significant missing data issues :(\")"
   ]
  },
  {
   "cell_type": "markdown",
   "id": "a1a6f9bb",
   "metadata": {},
   "source": [
    "- Based on the precipitation variable, `PRCP`, make a new variable called `rain` that takes the value 1 if `PRCP`>0 and 0 otherwise."
   ]
  },
  {
   "cell_type": "code",
   "execution_count": 12,
   "id": "71615739",
   "metadata": {},
   "outputs": [
    {
     "data": {
      "text/html": [
       "<div>\n",
       "<style scoped>\n",
       "    .dataframe tbody tr th:only-of-type {\n",
       "        vertical-align: middle;\n",
       "    }\n",
       "\n",
       "    .dataframe tbody tr th {\n",
       "        vertical-align: top;\n",
       "    }\n",
       "\n",
       "    .dataframe thead th {\n",
       "        text-align: right;\n",
       "    }\n",
       "</style>\n",
       "<table border=\"1\" class=\"dataframe\">\n",
       "  <thead>\n",
       "    <tr style=\"text-align: right;\">\n",
       "      <th></th>\n",
       "      <th>0</th>\n",
       "      <th>1</th>\n",
       "      <th>271</th>\n",
       "    </tr>\n",
       "  </thead>\n",
       "  <tbody>\n",
       "    <tr>\n",
       "      <th>STATION</th>\n",
       "      <td>US1VACRC002</td>\n",
       "      <td>US1VACRC002</td>\n",
       "      <td>US1VAAB0010</td>\n",
       "    </tr>\n",
       "    <tr>\n",
       "      <th>NAME</th>\n",
       "      <td>CHARLOTTESVILLE 0.5 NNE, VA US</td>\n",
       "      <td>CHARLOTTESVILLE 0.5 NNE, VA US</td>\n",
       "      <td>CHARLOTTESVILLE 8.4 W, VA US</td>\n",
       "    </tr>\n",
       "    <tr>\n",
       "      <th>DATE</th>\n",
       "      <td>2024-01-04</td>\n",
       "      <td>2024-01-07</td>\n",
       "      <td>2024-01-08</td>\n",
       "    </tr>\n",
       "    <tr>\n",
       "      <th>DAPR</th>\n",
       "      <td>NaN</td>\n",
       "      <td>NaN</td>\n",
       "      <td>NaN</td>\n",
       "    </tr>\n",
       "    <tr>\n",
       "      <th>DAPR_ATTRIBUTES</th>\n",
       "      <td>NaN</td>\n",
       "      <td>NaN</td>\n",
       "      <td>NaN</td>\n",
       "    </tr>\n",
       "    <tr>\n",
       "      <th>MDPR</th>\n",
       "      <td>NaN</td>\n",
       "      <td>NaN</td>\n",
       "      <td>NaN</td>\n",
       "    </tr>\n",
       "    <tr>\n",
       "      <th>MDPR_ATTRIBUTES</th>\n",
       "      <td>NaN</td>\n",
       "      <td>NaN</td>\n",
       "      <td>NaN</td>\n",
       "    </tr>\n",
       "    <tr>\n",
       "      <th>PRCP</th>\n",
       "      <td>0.03</td>\n",
       "      <td>1.08</td>\n",
       "      <td>0.0</td>\n",
       "    </tr>\n",
       "    <tr>\n",
       "      <th>PRCP_ATTRIBUTES</th>\n",
       "      <td>,,N</td>\n",
       "      <td>,,N</td>\n",
       "      <td>,,N</td>\n",
       "    </tr>\n",
       "    <tr>\n",
       "      <th>SNOW</th>\n",
       "      <td>NaN</td>\n",
       "      <td>NaN</td>\n",
       "      <td>0.0</td>\n",
       "    </tr>\n",
       "    <tr>\n",
       "      <th>SNOW_ATTRIBUTES</th>\n",
       "      <td>NaN</td>\n",
       "      <td>NaN</td>\n",
       "      <td>,,N</td>\n",
       "    </tr>\n",
       "    <tr>\n",
       "      <th>SNWD</th>\n",
       "      <td>NaN</td>\n",
       "      <td>NaN</td>\n",
       "      <td>NaN</td>\n",
       "    </tr>\n",
       "    <tr>\n",
       "      <th>SNWD_ATTRIBUTES</th>\n",
       "      <td>NaN</td>\n",
       "      <td>NaN</td>\n",
       "      <td>NaN</td>\n",
       "    </tr>\n",
       "    <tr>\n",
       "      <th>rain</th>\n",
       "      <td>1</td>\n",
       "      <td>1</td>\n",
       "      <td>0</td>\n",
       "    </tr>\n",
       "  </tbody>\n",
       "</table>\n",
       "</div>"
      ],
      "text/plain": [
       "                                            0    \\\n",
       "STATION                             US1VACRC002   \n",
       "NAME             CHARLOTTESVILLE 0.5 NNE, VA US   \n",
       "DATE                                 2024-01-04   \n",
       "DAPR                                        NaN   \n",
       "DAPR_ATTRIBUTES                             NaN   \n",
       "MDPR                                        NaN   \n",
       "MDPR_ATTRIBUTES                             NaN   \n",
       "PRCP                                       0.03   \n",
       "PRCP_ATTRIBUTES                             ,,N   \n",
       "SNOW                                        NaN   \n",
       "SNOW_ATTRIBUTES                             NaN   \n",
       "SNWD                                        NaN   \n",
       "SNWD_ATTRIBUTES                             NaN   \n",
       "rain                                          1   \n",
       "\n",
       "                                            1                             271  \n",
       "STATION                             US1VACRC002                   US1VAAB0010  \n",
       "NAME             CHARLOTTESVILLE 0.5 NNE, VA US  CHARLOTTESVILLE 8.4 W, VA US  \n",
       "DATE                                 2024-01-07                    2024-01-08  \n",
       "DAPR                                        NaN                           NaN  \n",
       "DAPR_ATTRIBUTES                             NaN                           NaN  \n",
       "MDPR                                        NaN                           NaN  \n",
       "MDPR_ATTRIBUTES                             NaN                           NaN  \n",
       "PRCP                                       1.08                           0.0  \n",
       "PRCP_ATTRIBUTES                             ,,N                           ,,N  \n",
       "SNOW                                        NaN                           0.0  \n",
       "SNOW_ATTRIBUTES                             NaN                           ,,N  \n",
       "SNWD                                        NaN                           NaN  \n",
       "SNWD_ATTRIBUTES                             NaN                           NaN  \n",
       "rain                                          1                             0  "
      ]
     },
     "execution_count": 12,
     "metadata": {},
     "output_type": "execute_result"
    }
   ],
   "source": [
    "df['rain'] = df['PRCP'] > 0\n",
    "df['rain'] = df['rain'].astype(int)\n",
    "df.head(3).T"
   ]
  },
  {
   "cell_type": "markdown",
   "id": "f139ad3f",
   "metadata": {},
   "source": [
    "- Build a two-state Markov chain over the states 0 and 1 for the `rain` variable. "
   ]
  },
  {
   "cell_type": "code",
   "execution_count": 13,
   "id": "33c62112",
   "metadata": {},
   "outputs": [
    {
     "data": {
      "text/plain": [
       "array([[0.76293103, 0.30898876],\n",
       "       [0.23706897, 0.69101124]])"
      ]
     },
     "execution_count": 13,
     "metadata": {},
     "output_type": "execute_result"
    }
   ],
   "source": [
    "df_rain_transitions = pd.crosstab(df['rain'].shift(1), df['rain'])\n",
    "T = df_rain_transitions.div(df_rain_transitions.sum(axis=1), axis=0)\n",
    "T = (T.values).T\n",
    "T"
   ]
  },
  {
   "cell_type": "markdown",
   "id": "f059c3d1",
   "metadata": {},
   "source": [
    "- For your chain from c, how likely is it to rain if it was rainy yesterday? How likely is it to rain if it was clear yesterday?"
   ]
  },
  {
   "cell_type": "code",
   "execution_count": 17,
   "id": "93765dc8",
   "metadata": {},
   "outputs": [
    {
     "name": "stdout",
     "output_type": "stream",
     "text": [
      "Odds of rain if it rained yesterday:  0.6910112359550562\n",
      "Odds of rain if it did not rain yesterday:  0.23706896551724138\n"
     ]
    }
   ],
   "source": [
    "print(\"Odds of rain if it rained yesterday: \", T[1][1])\n",
    "print(\"Odds of rain if it did not rain yesterday: \", T[1][0])"
   ]
  },
  {
   "cell_type": "markdown",
   "id": "ca99be1f",
   "metadata": {},
   "source": [
    "- Starting from a clear day, forecast the distribution. How quickly does it converge to a fixed result? What if you start from a rainy day?"
   ]
  },
  {
   "cell_type": "code",
   "execution_count": 15,
   "id": "102078f2",
   "metadata": {},
   "outputs": [
    {
     "name": "stdout",
     "output_type": "stream",
     "text": [
      "\n",
      "Convergence from rainy day:\n",
      "The number of iterations required to converge to the same stable state is  47\n",
      "The (stable) state at 48 is  [0.56585366 0.43414634]\n",
      "The (stable) state at 47 is  [0.56585366 0.43414634]\n",
      "\n",
      "Convergence from non-rainy day:\n",
      "The number of iterations required to converge to the same stable state is  48\n",
      "The (stable) state at 49 is  [0.56585366 0.43414634]\n",
      "The (stable) state at 48 is  [0.56585366 0.43414634]\n"
     ]
    }
   ],
   "source": [
    "print(\"\\nConvergence from rainy day:\")\n",
    "def exp_matmul(T, n, init_state):\n",
    "    if n == 0:\n",
    "        return init_state\n",
    "    else:\n",
    "        return T @ exp_matmul(T, n-1, init_state)\n",
    "n = 2\n",
    "while True:\n",
    "    if (exp_matmul(T, n, np.array([0, 1])) == exp_matmul(T, n-1, np.array([0, 1]))).all():\n",
    "        break\n",
    "    n += 1\n",
    "print(\"The number of iterations required to converge to the same stable state is \", n-1)\n",
    "print(f\"The (stable) state at {n} is \", exp_matmul(T, n, np.array([0, 1])))\n",
    "print(f\"The (stable) state at {n-1} is \", exp_matmul(T, n-1, np.array([0, 1])))\n",
    "\n",
    "print(\"\\nConvergence from non-rainy day:\")\n",
    "n = 2\n",
    "while True:\n",
    "    if (exp_matmul(T, n, np.array([1, 0])) == exp_matmul(T, n-1, np.array([1, 0]))).all():\n",
    "        break\n",
    "    n += 1\n",
    "print(\"The number of iterations required to converge to the same stable state is \", n-1)\n",
    "print(f\"The (stable) state at {n} is \", exp_matmul(T, n, np.array([1, 0])))\n",
    "print(f\"The (stable) state at {n-1} is \", exp_matmul(T, n-1, np.array([1, 0])))"
   ]
  },
  {
   "cell_type": "markdown",
   "id": "c5d16e3e",
   "metadata": {},
   "source": [
    "- Conditional on being rainy, plot a KDE of the `PRCP` variable."
   ]
  },
  {
   "cell_type": "code",
   "execution_count": 16,
   "id": "b0410f4f",
   "metadata": {},
   "outputs": [
    {
     "data": {
      "text/plain": [
       "<Axes: xlabel='PRCP', ylabel='Density'>"
      ]
     },
     "execution_count": 16,
     "metadata": {},
     "output_type": "execute_result"
    },
    {
     "data": {
      "image/png": "[encoded data removed]",
      "text/plain": [
       "<Figure size 640x480 with 1 Axes>"
      ]
     },
     "metadata": {},
     "output_type": "display_data"
    }
   ],
   "source": [
    "import seaborn as sns\n",
    "df_rained = df[df['rain'] == 1]\n",
    "sns.kdeplot(df_rained['PRCP'])"
   ]
  },
  {
   "cell_type": "markdown",
   "id": "6b25186a",
   "metadata": {},
   "source": [
    "- Describe one way of making your model better for forecasting and simulation the weather.\n",
    "\n",
    "We could use n-gram states where each state is a sequence of previous states. We would then be using the weather today and yesterday to predict the weather tomorrow and the next day.\n",
    "\n",
    "We could also split the data into 4 categories corresponding to the 4 seasons of the year and make a model for each season."
   ]
  },
  {
   "cell_type": "markdown",
   "id": "b953c2c4",
   "metadata": {},
   "source": [
    "# 4. Taxicab trajectories: Using the pickled taxicab data, we want to complete the exercise from class."
   ]
  },
  {
   "cell_type": "markdown",
   "id": "e484f88b",
   "metadata": {},
   "source": [
    "- For the taxicab trajectory data, determine your state space and clean your sequences of cab rides.\n"
   ]
  },
  {
   "cell_type": "markdown",
   "id": "3203822d",
   "metadata": {},
   "source": [
    "- Compute the transition matrix for the taxicab data between neighborhoods in Manhattan. Plot it in a heat map. What are the most common routes?\n"
   ]
  },
  {
   "cell_type": "markdown",
   "id": "6201e9c2",
   "metadata": {},
   "source": [
    "- Explain why taxicabs are most likely order 1, and not 2 or more.\n"
   ]
  },
  {
   "cell_type": "markdown",
   "id": "e682189a",
   "metadata": {},
   "source": [
    "- Starting at Hell's Kitchen, create a sequence of forecasts of where the cab is likely to be in 2, 3, 5, and 10 trips\n"
   ]
  },
  {
   "cell_type": "markdown",
   "id": "8ad0757b",
   "metadata": {},
   "source": [
    "- Starting at any neighborhood, iterate your forecast until it is no longer changing very much. Where do cabs spend most of their time working in Manhattan?"
   ]
  }
 ],
 "metadata": {
  "kernelspec": {
   "display_name": "understanding_uncertainty",
   "language": "python",
   "name": "python3"
  },
  "language_info": {
   "codemirror_mode": {
    "name": "ipython",
    "version": 3
   },
   "file_extension": ".py",
   "mimetype": "text/x-python",
   "name": "python",
   "nbconvert_exporter": "python",
   "pygments_lexer": "ipython3",
   "version": "3.13.5"
  }
 },
 "nbformat": 4,
 "nbformat_minor": 5
}
